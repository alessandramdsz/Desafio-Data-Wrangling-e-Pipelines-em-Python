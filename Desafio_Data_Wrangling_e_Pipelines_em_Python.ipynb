{
  "nbformat": 4,
  "nbformat_minor": 0,
  "metadata": {
    "colab": {
      "provenance": [],
      "include_colab_link": true
    },
    "kernelspec": {
      "name": "python3",
      "display_name": "Python 3"
    },
    "language_info": {
      "name": "python"
    }
  },
  "cells": [
    {
      "cell_type": "markdown",
      "metadata": {
        "id": "view-in-github",
        "colab_type": "text"
      },
      "source": [
        "<a href=\"https://colab.research.google.com/github/alessandramdsz/Desafio-Data-Wrangling-e-Pipelines-em-Python/blob/main/Desafio_Data_Wrangling_e_Pipelines_em_Python.ipynb\" target=\"_parent\"><img src=\"https://colab.research.google.com/assets/colab-badge.svg\" alt=\"Open In Colab\"/></a>"
      ]
    },
    {
      "cell_type": "markdown",
      "source": [
        "### Bibliotecas"
      ],
      "metadata": {
        "id": "G3mehfczXvYp"
      }
    },
    {
      "cell_type": "code",
      "source": [
        "import gdown\n",
        "import pandas as pd\n",
        "import numpy as np"
      ],
      "metadata": {
        "id": "y5aBqpbQDg_K"
      },
      "execution_count": 1,
      "outputs": []
    },
    {
      "cell_type": "markdown",
      "source": [
        "# Extração (E)"
      ],
      "metadata": {
        "id": "pD2ktFpqZf-2"
      }
    },
    {
      "cell_type": "markdown",
      "source": [
        "### Leitura CSV\n",
        "- Fazer a leitura do CSV no Google Colab com pandas e visualizar as 5 primeiras linhas."
      ],
      "metadata": {
        "id": "2l4Wjl2JX0FR"
      }
    },
    {
      "cell_type": "code",
      "source": [
        "# Para a execução, subi o CSV na parte de arquivos e realizei o upload.\n",
        "\n",
        "# ID do arquivo\n",
        "arquivo_id = \"13IPaHOFEnvDkApg4E6jwyhvHvaOHFOLX\"   # seu file id\n",
        "url = f\"https://drive.google.com/uc?id={arquivo_id}\"\n",
        "output = \"vendas.csv\"\n",
        "\n",
        "gdown.download(url, output, quiet=False)\n",
        "\n",
        "try:\n",
        " df = pd.read_csv(\"vendas.csv\")\n",
        " print(\"Arquivo extraído com sucesso!\")\n",
        "\n",
        " print(\"Visualização das 5 primeiras linhas do dataset:\")\n",
        "\n",
        "except FileNotFoundError:\n",
        " print(f\"Erro: Arquivo não encontrado no caminho: '/content/vendas.csv'\")\n",
        "\n",
        "df.head()"
      ],
      "metadata": {
        "colab": {
          "base_uri": "https://localhost:8080/",
          "height": 310
        },
        "id": "Bfa6-SD30gvw",
        "outputId": "7b06c456-f03e-44a9-be6a-847c422b85a6"
      },
      "execution_count": 2,
      "outputs": [
        {
          "output_type": "stream",
          "name": "stderr",
          "text": [
            "Downloading...\n",
            "From: https://drive.google.com/uc?id=13IPaHOFEnvDkApg4E6jwyhvHvaOHFOLX\n",
            "To: /content/vendas.csv\n",
            "100%|██████████| 114k/114k [00:00<00:00, 40.9MB/s]"
          ]
        },
        {
          "output_type": "stream",
          "name": "stdout",
          "text": [
            "Arquivo extraído com sucesso!\n",
            "Visualização das 5 primeiras linhas do dataset:\n"
          ]
        },
        {
          "output_type": "stream",
          "name": "stderr",
          "text": [
            "\n"
          ]
        },
        {
          "output_type": "execute_result",
          "data": {
            "text/plain": [
              "   id_venda  data_venda        cliente        produto quantidade  \\\n",
              "0         1  2025/06/01  Fernanda Lima      iPhone 13          5   \n",
              "1         2  2025-05-02     João Souza        Caderno          1   \n",
              "2         3  04-04-2025    Maria Silva  Notebook Dell          2   \n",
              "3         4  21-06-2025  Fernanda Lima        Caderno          1   \n",
              "4         5  15-09-2025  Fernanda Lima    Mouse Gamer          3   \n",
              "\n",
              "   preco_unitario    categoria  \n",
              "0          5500.0  Eletrônicos  \n",
              "1            25.0    Papelaria  \n",
              "2          3500.0  Eletrônicos  \n",
              "3            25.0    Papelaria  \n",
              "4           200.0  Eletrônicos  "
            ],
            "text/html": [
              "\n",
              "  <div id=\"df-dbbd5cdc-9d66-49af-bd73-6e44723ba8f1\" class=\"colab-df-container\">\n",
              "    <div>\n",
              "<style scoped>\n",
              "    .dataframe tbody tr th:only-of-type {\n",
              "        vertical-align: middle;\n",
              "    }\n",
              "\n",
              "    .dataframe tbody tr th {\n",
              "        vertical-align: top;\n",
              "    }\n",
              "\n",
              "    .dataframe thead th {\n",
              "        text-align: right;\n",
              "    }\n",
              "</style>\n",
              "<table border=\"1\" class=\"dataframe\">\n",
              "  <thead>\n",
              "    <tr style=\"text-align: right;\">\n",
              "      <th></th>\n",
              "      <th>id_venda</th>\n",
              "      <th>data_venda</th>\n",
              "      <th>cliente</th>\n",
              "      <th>produto</th>\n",
              "      <th>quantidade</th>\n",
              "      <th>preco_unitario</th>\n",
              "      <th>categoria</th>\n",
              "    </tr>\n",
              "  </thead>\n",
              "  <tbody>\n",
              "    <tr>\n",
              "      <th>0</th>\n",
              "      <td>1</td>\n",
              "      <td>2025/06/01</td>\n",
              "      <td>Fernanda Lima</td>\n",
              "      <td>iPhone 13</td>\n",
              "      <td>5</td>\n",
              "      <td>5500.0</td>\n",
              "      <td>Eletrônicos</td>\n",
              "    </tr>\n",
              "    <tr>\n",
              "      <th>1</th>\n",
              "      <td>2</td>\n",
              "      <td>2025-05-02</td>\n",
              "      <td>João Souza</td>\n",
              "      <td>Caderno</td>\n",
              "      <td>1</td>\n",
              "      <td>25.0</td>\n",
              "      <td>Papelaria</td>\n",
              "    </tr>\n",
              "    <tr>\n",
              "      <th>2</th>\n",
              "      <td>3</td>\n",
              "      <td>04-04-2025</td>\n",
              "      <td>Maria Silva</td>\n",
              "      <td>Notebook Dell</td>\n",
              "      <td>2</td>\n",
              "      <td>3500.0</td>\n",
              "      <td>Eletrônicos</td>\n",
              "    </tr>\n",
              "    <tr>\n",
              "      <th>3</th>\n",
              "      <td>4</td>\n",
              "      <td>21-06-2025</td>\n",
              "      <td>Fernanda Lima</td>\n",
              "      <td>Caderno</td>\n",
              "      <td>1</td>\n",
              "      <td>25.0</td>\n",
              "      <td>Papelaria</td>\n",
              "    </tr>\n",
              "    <tr>\n",
              "      <th>4</th>\n",
              "      <td>5</td>\n",
              "      <td>15-09-2025</td>\n",
              "      <td>Fernanda Lima</td>\n",
              "      <td>Mouse Gamer</td>\n",
              "      <td>3</td>\n",
              "      <td>200.0</td>\n",
              "      <td>Eletrônicos</td>\n",
              "    </tr>\n",
              "  </tbody>\n",
              "</table>\n",
              "</div>\n",
              "    <div class=\"colab-df-buttons\">\n",
              "\n",
              "  <div class=\"colab-df-container\">\n",
              "    <button class=\"colab-df-convert\" onclick=\"convertToInteractive('df-dbbd5cdc-9d66-49af-bd73-6e44723ba8f1')\"\n",
              "            title=\"Convert this dataframe to an interactive table.\"\n",
              "            style=\"display:none;\">\n",
              "\n",
              "  <svg xmlns=\"http://www.w3.org/2000/svg\" height=\"24px\" viewBox=\"0 -960 960 960\">\n",
              "    <path d=\"M120-120v-720h720v720H120Zm60-500h600v-160H180v160Zm220 220h160v-160H400v160Zm0 220h160v-160H400v160ZM180-400h160v-160H180v160Zm440 0h160v-160H620v160ZM180-180h160v-160H180v160Zm440 0h160v-160H620v160Z\"/>\n",
              "  </svg>\n",
              "    </button>\n",
              "\n",
              "  <style>\n",
              "    .colab-df-container {\n",
              "      display:flex;\n",
              "      gap: 12px;\n",
              "    }\n",
              "\n",
              "    .colab-df-convert {\n",
              "      background-color: #E8F0FE;\n",
              "      border: none;\n",
              "      border-radius: 50%;\n",
              "      cursor: pointer;\n",
              "      display: none;\n",
              "      fill: #1967D2;\n",
              "      height: 32px;\n",
              "      padding: 0 0 0 0;\n",
              "      width: 32px;\n",
              "    }\n",
              "\n",
              "    .colab-df-convert:hover {\n",
              "      background-color: #E2EBFA;\n",
              "      box-shadow: 0px 1px 2px rgba(60, 64, 67, 0.3), 0px 1px 3px 1px rgba(60, 64, 67, 0.15);\n",
              "      fill: #174EA6;\n",
              "    }\n",
              "\n",
              "    .colab-df-buttons div {\n",
              "      margin-bottom: 4px;\n",
              "    }\n",
              "\n",
              "    [theme=dark] .colab-df-convert {\n",
              "      background-color: #3B4455;\n",
              "      fill: #D2E3FC;\n",
              "    }\n",
              "\n",
              "    [theme=dark] .colab-df-convert:hover {\n",
              "      background-color: #434B5C;\n",
              "      box-shadow: 0px 1px 3px 1px rgba(0, 0, 0, 0.15);\n",
              "      filter: drop-shadow(0px 1px 2px rgba(0, 0, 0, 0.3));\n",
              "      fill: #FFFFFF;\n",
              "    }\n",
              "  </style>\n",
              "\n",
              "    <script>\n",
              "      const buttonEl =\n",
              "        document.querySelector('#df-dbbd5cdc-9d66-49af-bd73-6e44723ba8f1 button.colab-df-convert');\n",
              "      buttonEl.style.display =\n",
              "        google.colab.kernel.accessAllowed ? 'block' : 'none';\n",
              "\n",
              "      async function convertToInteractive(key) {\n",
              "        const element = document.querySelector('#df-dbbd5cdc-9d66-49af-bd73-6e44723ba8f1');\n",
              "        const dataTable =\n",
              "          await google.colab.kernel.invokeFunction('convertToInteractive',\n",
              "                                                    [key], {});\n",
              "        if (!dataTable) return;\n",
              "\n",
              "        const docLinkHtml = 'Like what you see? Visit the ' +\n",
              "          '<a target=\"_blank\" href=https://colab.research.google.com/notebooks/data_table.ipynb>data table notebook</a>'\n",
              "          + ' to learn more about interactive tables.';\n",
              "        element.innerHTML = '';\n",
              "        dataTable['output_type'] = 'display_data';\n",
              "        await google.colab.output.renderOutput(dataTable, element);\n",
              "        const docLink = document.createElement('div');\n",
              "        docLink.innerHTML = docLinkHtml;\n",
              "        element.appendChild(docLink);\n",
              "      }\n",
              "    </script>\n",
              "  </div>\n",
              "\n",
              "\n",
              "    <div id=\"df-48d5faed-5466-4c6e-94c2-86043d985222\">\n",
              "      <button class=\"colab-df-quickchart\" onclick=\"quickchart('df-48d5faed-5466-4c6e-94c2-86043d985222')\"\n",
              "                title=\"Suggest charts\"\n",
              "                style=\"display:none;\">\n",
              "\n",
              "<svg xmlns=\"http://www.w3.org/2000/svg\" height=\"24px\"viewBox=\"0 0 24 24\"\n",
              "     width=\"24px\">\n",
              "    <g>\n",
              "        <path d=\"M19 3H5c-1.1 0-2 .9-2 2v14c0 1.1.9 2 2 2h14c1.1 0 2-.9 2-2V5c0-1.1-.9-2-2-2zM9 17H7v-7h2v7zm4 0h-2V7h2v10zm4 0h-2v-4h2v4z\"/>\n",
              "    </g>\n",
              "</svg>\n",
              "      </button>\n",
              "\n",
              "<style>\n",
              "  .colab-df-quickchart {\n",
              "      --bg-color: #E8F0FE;\n",
              "      --fill-color: #1967D2;\n",
              "      --hover-bg-color: #E2EBFA;\n",
              "      --hover-fill-color: #174EA6;\n",
              "      --disabled-fill-color: #AAA;\n",
              "      --disabled-bg-color: #DDD;\n",
              "  }\n",
              "\n",
              "  [theme=dark] .colab-df-quickchart {\n",
              "      --bg-color: #3B4455;\n",
              "      --fill-color: #D2E3FC;\n",
              "      --hover-bg-color: #434B5C;\n",
              "      --hover-fill-color: #FFFFFF;\n",
              "      --disabled-bg-color: #3B4455;\n",
              "      --disabled-fill-color: #666;\n",
              "  }\n",
              "\n",
              "  .colab-df-quickchart {\n",
              "    background-color: var(--bg-color);\n",
              "    border: none;\n",
              "    border-radius: 50%;\n",
              "    cursor: pointer;\n",
              "    display: none;\n",
              "    fill: var(--fill-color);\n",
              "    height: 32px;\n",
              "    padding: 0;\n",
              "    width: 32px;\n",
              "  }\n",
              "\n",
              "  .colab-df-quickchart:hover {\n",
              "    background-color: var(--hover-bg-color);\n",
              "    box-shadow: 0 1px 2px rgba(60, 64, 67, 0.3), 0 1px 3px 1px rgba(60, 64, 67, 0.15);\n",
              "    fill: var(--button-hover-fill-color);\n",
              "  }\n",
              "\n",
              "  .colab-df-quickchart-complete:disabled,\n",
              "  .colab-df-quickchart-complete:disabled:hover {\n",
              "    background-color: var(--disabled-bg-color);\n",
              "    fill: var(--disabled-fill-color);\n",
              "    box-shadow: none;\n",
              "  }\n",
              "\n",
              "  .colab-df-spinner {\n",
              "    border: 2px solid var(--fill-color);\n",
              "    border-color: transparent;\n",
              "    border-bottom-color: var(--fill-color);\n",
              "    animation:\n",
              "      spin 1s steps(1) infinite;\n",
              "  }\n",
              "\n",
              "  @keyframes spin {\n",
              "    0% {\n",
              "      border-color: transparent;\n",
              "      border-bottom-color: var(--fill-color);\n",
              "      border-left-color: var(--fill-color);\n",
              "    }\n",
              "    20% {\n",
              "      border-color: transparent;\n",
              "      border-left-color: var(--fill-color);\n",
              "      border-top-color: var(--fill-color);\n",
              "    }\n",
              "    30% {\n",
              "      border-color: transparent;\n",
              "      border-left-color: var(--fill-color);\n",
              "      border-top-color: var(--fill-color);\n",
              "      border-right-color: var(--fill-color);\n",
              "    }\n",
              "    40% {\n",
              "      border-color: transparent;\n",
              "      border-right-color: var(--fill-color);\n",
              "      border-top-color: var(--fill-color);\n",
              "    }\n",
              "    60% {\n",
              "      border-color: transparent;\n",
              "      border-right-color: var(--fill-color);\n",
              "    }\n",
              "    80% {\n",
              "      border-color: transparent;\n",
              "      border-right-color: var(--fill-color);\n",
              "      border-bottom-color: var(--fill-color);\n",
              "    }\n",
              "    90% {\n",
              "      border-color: transparent;\n",
              "      border-bottom-color: var(--fill-color);\n",
              "    }\n",
              "  }\n",
              "</style>\n",
              "\n",
              "      <script>\n",
              "        async function quickchart(key) {\n",
              "          const quickchartButtonEl =\n",
              "            document.querySelector('#' + key + ' button');\n",
              "          quickchartButtonEl.disabled = true;  // To prevent multiple clicks.\n",
              "          quickchartButtonEl.classList.add('colab-df-spinner');\n",
              "          try {\n",
              "            const charts = await google.colab.kernel.invokeFunction(\n",
              "                'suggestCharts', [key], {});\n",
              "          } catch (error) {\n",
              "            console.error('Error during call to suggestCharts:', error);\n",
              "          }\n",
              "          quickchartButtonEl.classList.remove('colab-df-spinner');\n",
              "          quickchartButtonEl.classList.add('colab-df-quickchart-complete');\n",
              "        }\n",
              "        (() => {\n",
              "          let quickchartButtonEl =\n",
              "            document.querySelector('#df-48d5faed-5466-4c6e-94c2-86043d985222 button');\n",
              "          quickchartButtonEl.style.display =\n",
              "            google.colab.kernel.accessAllowed ? 'block' : 'none';\n",
              "        })();\n",
              "      </script>\n",
              "    </div>\n",
              "\n",
              "    </div>\n",
              "  </div>\n"
            ],
            "application/vnd.google.colaboratory.intrinsic+json": {
              "type": "dataframe",
              "variable_name": "df",
              "summary": "{\n  \"name\": \"df\",\n  \"rows\": 2000,\n  \"fields\": [\n    {\n      \"column\": \"id_venda\",\n      \"properties\": {\n        \"dtype\": \"number\",\n        \"std\": 577,\n        \"min\": 1,\n        \"max\": 2000,\n        \"num_unique_values\": 2000,\n        \"samples\": [\n          1861,\n          354,\n          1334\n        ],\n        \"semantic_type\": \"\",\n        \"description\": \"\"\n      }\n    },\n    {\n      \"column\": \"data_venda\",\n      \"properties\": {\n        \"dtype\": \"category\",\n        \"num_unique_values\": 875,\n        \"samples\": [\n          \"22-02-2025\",\n          \"02-06-2025\",\n          \"27-03-2025\"\n        ],\n        \"semantic_type\": \"\",\n        \"description\": \"\"\n      }\n    },\n    {\n      \"column\": \"cliente\",\n      \"properties\": {\n        \"dtype\": \"category\",\n        \"num_unique_values\": 5,\n        \"samples\": [\n          \"Jo\\u00e3o Souza\",\n          \"Ana Pereira\",\n          \"Maria Silva\"\n        ],\n        \"semantic_type\": \"\",\n        \"description\": \"\"\n      }\n    },\n    {\n      \"column\": \"produto\",\n      \"properties\": {\n        \"dtype\": \"category\",\n        \"num_unique_values\": 10,\n        \"samples\": [\n          \"Garrafa T\\u00e9rmica\",\n          \"Caderno\",\n          \"Mochila\"\n        ],\n        \"semantic_type\": \"\",\n        \"description\": \"\"\n      }\n    },\n    {\n      \"column\": \"quantidade\",\n      \"properties\": {\n        \"dtype\": \"category\",\n        \"num_unique_values\": 6,\n        \"samples\": [\n          \"5\",\n          \"1\",\n          \"tr\\u00eas\"\n        ],\n        \"semantic_type\": \"\",\n        \"description\": \"\"\n      }\n    },\n    {\n      \"column\": \"preco_unitario\",\n      \"properties\": {\n        \"dtype\": \"number\",\n        \"std\": 1781.4951070222207,\n        \"min\": -5500.0,\n        \"max\": 5500.0,\n        \"num_unique_values\": 20,\n        \"samples\": [\n          5500.0,\n          -200.0,\n          -5500.0\n        ],\n        \"semantic_type\": \"\",\n        \"description\": \"\"\n      }\n    },\n    {\n      \"column\": \"categoria\",\n      \"properties\": {\n        \"dtype\": \"category\",\n        \"num_unique_values\": 4,\n        \"samples\": [\n          \"Papelaria\",\n          \"Utilidades\",\n          \"Eletr\\u00f4nicos\"\n        ],\n        \"semantic_type\": \"\",\n        \"description\": \"\"\n      }\n    }\n  ]\n}"
            }
          },
          "metadata": {},
          "execution_count": 2
        }
      ]
    },
    {
      "cell_type": "markdown",
      "source": [
        "- Contar número de linhas e colunas, tipo de dados (dtype) de cada coluna e conte os valores ausentes de cada coluna"
      ],
      "metadata": {
        "id": "ahJ0QgF4YFkE"
      }
    },
    {
      "cell_type": "code",
      "source": [
        "df.info()"
      ],
      "metadata": {
        "id": "aVfL51awELpT",
        "colab": {
          "base_uri": "https://localhost:8080/"
        },
        "outputId": "37e7fd45-d26a-4930-daff-24ebc2a7758d"
      },
      "execution_count": 3,
      "outputs": [
        {
          "output_type": "stream",
          "name": "stdout",
          "text": [
            "<class 'pandas.core.frame.DataFrame'>\n",
            "RangeIndex: 2000 entries, 0 to 1999\n",
            "Data columns (total 7 columns):\n",
            " #   Column          Non-Null Count  Dtype  \n",
            "---  ------          --------------  -----  \n",
            " 0   id_venda        2000 non-null   int64  \n",
            " 1   data_venda      2000 non-null   object \n",
            " 2   cliente         1665 non-null   object \n",
            " 3   produto         2000 non-null   object \n",
            " 4   quantidade      2000 non-null   object \n",
            " 5   preco_unitario  2000 non-null   float64\n",
            " 6   categoria       1948 non-null   object \n",
            "dtypes: float64(1), int64(1), object(5)\n",
            "memory usage: 109.5+ KB\n"
          ]
        }
      ]
    },
    {
      "cell_type": "markdown",
      "source": [
        "- Filtrar apenas linhas com preço unitário > 100\n"
      ],
      "metadata": {
        "id": "Q1tPdCp2YUt3"
      }
    },
    {
      "cell_type": "code",
      "source": [
        "# Garante que a coluna 'preco_unitario' esteja no formato numérico\n",
        "df['preco_unitario'] = pd.to_numeric(df['preco_unitario'], errors='coerce')\n",
        "\n",
        "# Remove valores nulos nessa coluna (caso existam)\n",
        "df = df.dropna(subset=['preco_unitario'])\n",
        "\n",
        "# Aplica o filtro solicitado\n",
        "df_filtrado = df[df['preco_unitario'] > 100]"
      ],
      "metadata": {
        "id": "AXFK7sHEoVdB"
      },
      "execution_count": 6,
      "outputs": []
    },
    {
      "cell_type": "markdown",
      "source": [
        "- Ordene o dataset pelo valor do preço em ordem decrescente"
      ],
      "metadata": {
        "id": "NpKvtU1aYZO9"
      }
    },
    {
      "cell_type": "code",
      "source": [
        "df_resultado = df_filtrado.sort_values(by='preco_unitario', ascending=False)"
      ],
      "metadata": {
        "id": "vQD8f6m_YbLP"
      },
      "execution_count": 9,
      "outputs": []
    },
    {
      "cell_type": "markdown",
      "source": [
        "### Transformação (T)"
      ],
      "metadata": {
        "id": "3Xpl0QkCZycK"
      }
    },
    {
      "cell_type": "markdown",
      "source": [
        "- Padronizar as datas para o formato YYYY-MM-DD"
      ],
      "metadata": {
        "id": "H664CknXYbxw"
      }
    },
    {
      "cell_type": "code",
      "source": [
        "print(df.columns)"
      ],
      "metadata": {
        "colab": {
          "base_uri": "https://localhost:8080/"
        },
        "id": "Qea_ASOduMdj",
        "outputId": "2fb7d685-d04a-46cd-b895-41750efde19c"
      },
      "execution_count": 12,
      "outputs": [
        {
          "output_type": "stream",
          "name": "stdout",
          "text": [
            "Index(['id_venda', 'data_venda', 'cliente', 'produto', 'quantidade',\n",
            "       'preco_unitario', 'categoria'],\n",
            "      dtype='object')\n"
          ]
        }
      ]
    },
    {
      "cell_type": "code",
      "source": [
        "# Converte a coluna 'data_venda' para datetime\n",
        "df['data_venda'] = pd.to_datetime(df['data_venda'], errors='coerce', infer_datetime_format=True)\n",
        "\n",
        "# Formata para o padrão YYYY-MM-DD\n",
        "df['data_venda'] = df['data_venda'].dt.strftime('%Y-%m-%d')"
      ],
      "metadata": {
        "id": "z_H91krMYcvc",
        "colab": {
          "base_uri": "https://localhost:8080/"
        },
        "outputId": "c6617b06-025b-41e0-e6ec-954a0dfd0877"
      },
      "execution_count": 14,
      "outputs": [
        {
          "output_type": "stream",
          "name": "stderr",
          "text": [
            "/tmp/ipython-input-2867229976.py:2: UserWarning: The argument 'infer_datetime_format' is deprecated and will be removed in a future version. A strict version of it is now the default, see https://pandas.pydata.org/pdeps/0004-consistent-to-datetime-parsing.html. You can safely remove this argument.\n",
            "  df['data_venda'] = pd.to_datetime(df['data_venda'], errors='coerce', infer_datetime_format=True)\n"
          ]
        }
      ]
    },
    {
      "cell_type": "markdown",
      "source": [
        "- Substituir valores nulos em “categoria” por “Não informado”"
      ],
      "metadata": {
        "id": "FjRcZDeVYdxM"
      }
    },
    {
      "cell_type": "code",
      "source": [
        "df['categoria'].fillna('Não informado', inplace=True)"
      ],
      "metadata": {
        "id": "Vpxb6zyJYfP4",
        "colab": {
          "base_uri": "https://localhost:8080/"
        },
        "outputId": "be030457-27f5-45b2-a097-0ac905d16c96"
      },
      "execution_count": 15,
      "outputs": [
        {
          "output_type": "stream",
          "name": "stderr",
          "text": [
            "/tmp/ipython-input-3749591747.py:1: FutureWarning: A value is trying to be set on a copy of a DataFrame or Series through chained assignment using an inplace method.\n",
            "The behavior will change in pandas 3.0. This inplace method will never work because the intermediate object on which we are setting values always behaves as a copy.\n",
            "\n",
            "For example, when doing 'df[col].method(value, inplace=True)', try using 'df.method({col: value}, inplace=True)' or df[col] = df[col].method(value) instead, to perform the operation inplace on the original object.\n",
            "\n",
            "\n",
            "  df['categoria'].fillna('Não informado', inplace=True)\n"
          ]
        }
      ]
    },
    {
      "cell_type": "code",
      "source": [
        "# Verifica se ainda existem valores nulos na coluna - deve retornar 0\n",
        "print(\"Total de valores nulos em 'categoria':\", df['categoria'].isna().sum())"
      ],
      "metadata": {
        "colab": {
          "base_uri": "https://localhost:8080/"
        },
        "id": "kovLUefR0eB4",
        "outputId": "59632264-4d84-4432-a6e4-599b8af65569"
      },
      "execution_count": 18,
      "outputs": [
        {
          "output_type": "stream",
          "name": "stdout",
          "text": [
            "Total de valores nulos em 'categoria': 0\n"
          ]
        }
      ]
    },
    {
      "cell_type": "markdown",
      "source": [
        "- Corrigir quantidade para ser sempre número inteiro (\"três\")"
      ],
      "metadata": {
        "id": "M_4PDCvQYgoY"
      }
    },
    {
      "cell_type": "code",
      "source": [
        "# Correção da coluna quantidade. As vezes tem numero escrito por extenso (o três), só que precisa ser tudo numérico.\n",
        "\n",
        "df['quantidade'] = df['quantidade'].replace(['três', 'trÃªs'], '3')\n",
        "df['quantidade'] = pd.to_numeric(df['quantidade'], errors='coerce')\n",
        "\n",
        "if df['quantidade'].isnull().any():\n",
        "  print(\"Alguns valores numéricos foram encontrados e convertidos para nan na coluna quantidade\")\n",
        "  print(\"A couna quantidade será convertida para Int64\")\n",
        "  df['quantidade'] = df['quantidade'].astype('Int64')\n",
        "else:\n",
        "  df['quantidade'] = df['quantidade'].astype(int)\n",
        "  print(\"Coluna quantidade corrigida e convertida para inteiros\")\n",
        "df.info()\n",
        "\n",
        "print(df['quantidade'].unique())\n",
        "print(df[['id_venda', 'quantidade']].head(60))"
      ],
      "metadata": {
        "id": "Kn0Zc-zbYhlG",
        "colab": {
          "base_uri": "https://localhost:8080/"
        },
        "outputId": "3487c1d4-8497-48dd-bcca-52275db48838"
      },
      "execution_count": 19,
      "outputs": [
        {
          "output_type": "stream",
          "name": "stdout",
          "text": [
            "Coluna quantidade corrigida e convertida para inteiros\n",
            "<class 'pandas.core.frame.DataFrame'>\n",
            "RangeIndex: 2000 entries, 0 to 1999\n",
            "Data columns (total 7 columns):\n",
            " #   Column          Non-Null Count  Dtype  \n",
            "---  ------          --------------  -----  \n",
            " 0   id_venda        2000 non-null   int64  \n",
            " 1   data_venda      652 non-null    object \n",
            " 2   cliente         1665 non-null   object \n",
            " 3   produto         2000 non-null   object \n",
            " 4   quantidade      2000 non-null   int64  \n",
            " 5   preco_unitario  2000 non-null   float64\n",
            " 6   categoria       2000 non-null   object \n",
            "dtypes: float64(1), int64(2), object(4)\n",
            "memory usage: 109.5+ KB\n",
            "[5 1 2 3 4]\n",
            "    id_venda  quantidade\n",
            "0          1           5\n",
            "1          2           1\n",
            "2          3           2\n",
            "3          4           1\n",
            "4          5           3\n",
            "5          6           5\n",
            "6          7           3\n",
            "7          8           1\n",
            "8          9           1\n",
            "9         10           2\n",
            "10        11           2\n",
            "11        12           5\n",
            "12        13           5\n",
            "13        14           4\n",
            "14        15           4\n",
            "15        16           1\n",
            "16        17           1\n",
            "17        18           2\n",
            "18        19           2\n",
            "19        20           3\n",
            "20        21           2\n",
            "21        22           2\n",
            "22        23           4\n",
            "23        24           4\n",
            "24        25           3\n",
            "25        26           4\n",
            "26        27           4\n",
            "27        28           1\n",
            "28        29           4\n",
            "29        30           3\n",
            "30        31           5\n",
            "31        32           2\n",
            "32        33           4\n",
            "33        34           3\n",
            "34        35           3\n",
            "35        36           1\n",
            "36        37           1\n",
            "37        38           1\n",
            "38        39           4\n",
            "39        40           1\n",
            "40        41           2\n",
            "41        42           2\n",
            "42        43           2\n",
            "43        44           5\n",
            "44        45           5\n",
            "45        46           2\n",
            "46        47           1\n",
            "47        48           5\n",
            "48        49           5\n",
            "49        50           3\n",
            "50        51           1\n",
            "51        52           4\n",
            "52        53           3\n",
            "53        54           3\n",
            "54        55           3\n",
            "55        56           4\n",
            "56        57           1\n",
            "57        58           5\n",
            "58        59           4\n",
            "59        60           1\n"
          ]
        }
      ]
    },
    {
      "cell_type": "markdown",
      "source": [
        "- Corrigir ou remover preços negativos"
      ],
      "metadata": {
        "id": "RKZZVZzrYwxY"
      }
    },
    {
      "cell_type": "code",
      "source": [
        "# Correção ou remoção dos precos negativos\n",
        "\n",
        "df['preco_unitario'] = pd.to_numeric(df['preco_unitario'], errors='coerce')\n",
        "linhas_sem_tratamento_para_nan = len(df)\n",
        "df.dropna(subset=['preco_unitario'], inplace=True)\n",
        "linhas_com_tratamento_para_nan = len(df)\n",
        "\n",
        "if linhas_sem_tratamento_para_nan > linhas_com_tratamento_para_nan:\n",
        "  print(f\"Foram removidas {linhas_sem_tratamento_para_nan - linhas_com_tratamento_para_nan} linhas por causa de valores não numéricos em preco_unitario\")\n",
        "\n",
        "quantidade_precos_negativos = df[df['preco_unitario'] < 0].shape[0]\n",
        "if quantidade_precos_negativos > 0:\n",
        "  print(f\"Foi(ram) encontrado(s) {quantidade_precos_negativos} numeros negativos na coluna preco_unitario\")\n",
        "\n",
        "linhas_sem_tratamento_para_negativos = len(df)\n",
        "df = df[df['preco_unitario'] >= 0]\n",
        "linhas_com_tratamento_para_negativos = linhas_sem_tratamento_para_negativos - len(df)\n",
        "print(f\"Foram removidas {linhas_com_tratamento_para_negativos} linhas com preços negativos\")\n",
        "print(\"Os preços negativos foram removidos\")"
      ],
      "metadata": {
        "id": "9V4CKuSPYx7f",
        "colab": {
          "base_uri": "https://localhost:8080/"
        },
        "outputId": "713f80f6-2a26-4f2d-8613-632ddd48f3b9"
      },
      "execution_count": 20,
      "outputs": [
        {
          "output_type": "stream",
          "name": "stdout",
          "text": [
            "Foi(ram) encontrado(s) 53 numeros negativos na coluna preco_unitario\n",
            "Foram removidas 53 linhas com preços negativos\n",
            "Os preços negativos foram removidos\n"
          ]
        }
      ]
    },
    {
      "cell_type": "markdown",
      "source": [
        "- Criar nova coluna valor_total = quantidade * preco_unitario"
      ],
      "metadata": {
        "id": "ZjT6Ok5lYyb7"
      }
    },
    {
      "cell_type": "code",
      "source": [
        "# Criar uma nova coluna valor_total = quantidade * preco_unitario\n",
        "\n",
        "df['valor_total'] = df['quantidade'] * df['preco_unitario']"
      ],
      "metadata": {
        "id": "skSW2FIwYzcH",
        "colab": {
          "base_uri": "https://localhost:8080/"
        },
        "outputId": "720c8a80-b365-47a0-a448-109e3046a9f5"
      },
      "execution_count": 21,
      "outputs": [
        {
          "output_type": "stream",
          "name": "stderr",
          "text": [
            "/tmp/ipython-input-3461182038.py:3: SettingWithCopyWarning: \n",
            "A value is trying to be set on a copy of a slice from a DataFrame.\n",
            "Try using .loc[row_indexer,col_indexer] = value instead\n",
            "\n",
            "See the caveats in the documentation: https://pandas.pydata.org/pandas-docs/stable/user_guide/indexing.html#returning-a-view-versus-a-copy\n",
            "  df['valor_total'] = df['quantidade'] * df['preco_unitario']\n"
          ]
        }
      ]
    },
    {
      "cell_type": "markdown",
      "source": [
        "###  Carga (L)"
      ],
      "metadata": {
        "id": "YrlcRfIZaE70"
      }
    },
    {
      "cell_type": "code",
      "source": [
        "# Conectar a um banco de dados SQLite e salvar o DataFrame como uma tabela chamada \"vendas\"\n",
        "\n",
        "conexao = sqlite3.connect('vendas.db')\n",
        "\n",
        "# Salvar o DataFrame no banco de dados\n",
        "df.to_sql('tb_vendas', conexao, if_exists='replace', index=False)\n",
        "\n",
        "print(\"DataFrame salvo no banco de dados SQLite como tabela 'tb_vendas'.\")"
      ],
      "metadata": {
        "id": "YYhRDjftaMTp",
        "colab": {
          "base_uri": "https://localhost:8080/",
          "height": 211
        },
        "outputId": "eb3b350d-0738-4052-fbbf-03eb007eb469"
      },
      "execution_count": 22,
      "outputs": [
        {
          "output_type": "error",
          "ename": "NameError",
          "evalue": "name 'sqlite3' is not defined",
          "traceback": [
            "\u001b[0;31m---------------------------------------------------------------------------\u001b[0m",
            "\u001b[0;31mNameError\u001b[0m                                 Traceback (most recent call last)",
            "\u001b[0;32m/tmp/ipython-input-1202077243.py\u001b[0m in \u001b[0;36m<cell line: 0>\u001b[0;34m()\u001b[0m\n\u001b[1;32m      1\u001b[0m \u001b[0;31m# Conectar a um banco de dados SQLite e salvar o DataFrame como uma tabela chamada \"vendas\"\u001b[0m\u001b[0;34m\u001b[0m\u001b[0;34m\u001b[0m\u001b[0m\n\u001b[1;32m      2\u001b[0m \u001b[0;34m\u001b[0m\u001b[0m\n\u001b[0;32m----> 3\u001b[0;31m \u001b[0mconexao\u001b[0m \u001b[0;34m=\u001b[0m \u001b[0msqlite3\u001b[0m\u001b[0;34m.\u001b[0m\u001b[0mconnect\u001b[0m\u001b[0;34m(\u001b[0m\u001b[0;34m'vendas.db'\u001b[0m\u001b[0;34m)\u001b[0m\u001b[0;34m\u001b[0m\u001b[0;34m\u001b[0m\u001b[0m\n\u001b[0m\u001b[1;32m      4\u001b[0m \u001b[0;34m\u001b[0m\u001b[0m\n\u001b[1;32m      5\u001b[0m \u001b[0;31m# Salvar o DataFrame no banco de dados\u001b[0m\u001b[0;34m\u001b[0m\u001b[0;34m\u001b[0m\u001b[0m\n",
            "\u001b[0;31mNameError\u001b[0m: name 'sqlite3' is not defined"
          ]
        }
      ]
    },
    {
      "cell_type": "markdown",
      "source": [
        "* Salvar os dados tratados em uma tabela tb_vendas"
      ],
      "metadata": {
        "id": "UAM8Ftdh1mPT"
      }
    },
    {
      "cell_type": "code",
      "source": [],
      "metadata": {
        "id": "EC_iSV3K1tpx"
      },
      "execution_count": null,
      "outputs": []
    },
    {
      "cell_type": "markdown",
      "source": [
        "- Criar uma segunda tabela tb_clientes contendo apenas clientes únicos"
      ],
      "metadata": {
        "id": "3wF9zTylRweK"
      }
    },
    {
      "cell_type": "code",
      "source": [
        "# Criar um cursor para executar comandos SQL\n",
        "cursor = conexao.cursor()\n",
        "\n",
        "# Criar a tabela com clientes unicos\n",
        "cursor.executescript(\"\"\"\n",
        "CREATE TABLE tb_clientes(\n",
        "  id_cliente INTEGER PRIMARY KEY,\n",
        "  cliente TEXT NOT NULL UNIQUE\n",
        ");\n",
        "INSERT INTO tb_clientes(cliente)\n",
        "SELECT DISTINCT cliente FROM tb_vendas;\n",
        "\"\"\")\n",
        "\n",
        "# Salvar a tabela no banco de dados\n",
        "conexao.commit()\n",
        "print('Tabela contendo cliente únicos criada')"
      ],
      "metadata": {
        "id": "pU-CQrnDR2Ca",
        "colab": {
          "base_uri": "https://localhost:8080/",
          "height": 211
        },
        "outputId": "322a5b6a-76e2-4f8e-b3be-a72963347afc"
      },
      "execution_count": 24,
      "outputs": [
        {
          "output_type": "error",
          "ename": "NameError",
          "evalue": "name 'conexao' is not defined",
          "traceback": [
            "\u001b[0;31m---------------------------------------------------------------------------\u001b[0m",
            "\u001b[0;31mNameError\u001b[0m                                 Traceback (most recent call last)",
            "\u001b[0;32m/tmp/ipython-input-1719253453.py\u001b[0m in \u001b[0;36m<cell line: 0>\u001b[0;34m()\u001b[0m\n\u001b[1;32m      1\u001b[0m \u001b[0;31m# Criar um cursor para executar comandos SQL\u001b[0m\u001b[0;34m\u001b[0m\u001b[0;34m\u001b[0m\u001b[0m\n\u001b[0;32m----> 2\u001b[0;31m \u001b[0mcursor\u001b[0m \u001b[0;34m=\u001b[0m \u001b[0mconexao\u001b[0m\u001b[0;34m.\u001b[0m\u001b[0mcursor\u001b[0m\u001b[0;34m(\u001b[0m\u001b[0;34m)\u001b[0m\u001b[0;34m\u001b[0m\u001b[0;34m\u001b[0m\u001b[0m\n\u001b[0m\u001b[1;32m      3\u001b[0m \u001b[0;34m\u001b[0m\u001b[0m\n\u001b[1;32m      4\u001b[0m \u001b[0;31m# Criar a tabela com clientes unicos\u001b[0m\u001b[0;34m\u001b[0m\u001b[0;34m\u001b[0m\u001b[0m\n\u001b[1;32m      5\u001b[0m cursor.executescript(\"\"\"\n",
            "\u001b[0;31mNameError\u001b[0m: name 'conexao' is not defined"
          ]
        }
      ]
    },
    {
      "cell_type": "markdown",
      "source": [
        "- Relacionar tb_vendas com tb_clientes via chave estrangeira"
      ],
      "metadata": {
        "id": "Rp3eoH-OYz_u"
      }
    },
    {
      "cell_type": "code",
      "source": [
        "# Ativar o suporte para chave estrangeira\n",
        "cursor.execute(\"PRAGMA foreign_keys = ON\")\n",
        "\n",
        "# Criando a coluna id_cliente na tabela tb_vendas\n",
        "cursor.execute(\"ALTER TABLE tb_vendas ADD COLUMN id_cliente INTEGER;\")\n",
        "print('Coluna id_cliente foi adicionado à tabela tb_vendas')\n",
        "\n",
        "# Salvar os ids dos clientes a partir da tabela tb_clientes\n",
        "cursor.execute(\"\"\"\n",
        "UPDATE tb_vendas\n",
        "SET id_cliente = (\n",
        "  SELECT id_cliente\n",
        "  FROM tb_clientes c\n",
        "  WHERE c.cliente  = tb_vendas.cliente\n",
        ");\n",
        "\"\"\")\n",
        "print('Coluna id_cliente foi carregada com os dados da tabela tb_clientes')\n",
        "\n",
        "# Renomear a tabela tb_vendas\n",
        "cursor.execute('ALTER TABLE tb_vendas RENAME TO tb_vendas_temp')\n",
        "\n",
        "# Criar a tabela tb_vendas com a FK\n",
        "cursor.execute(\"\"\"\n",
        "CREATE TABLE tb_vendas (\n",
        "  id_venda INTEGER PRIMARY KEY,\n",
        "  data_venda DATE,\n",
        "  cliente TEXT,\n",
        "  produto  TEXT,\n",
        "  quantidade INTEGER,\n",
        "  preco_unitario REAL,\n",
        "  categoria  TEXT,\n",
        "  valor_total REAL,\n",
        "  id_cliente INTEGER NOT NULL\n",
        "  FOREIGN KEY(id_cliente) REFERENCES tb_clientes(id_cliente)\n",
        ");\"\"\")\n",
        "\n",
        "# Salvar os dados na nova tb_vendas\n",
        "cursor.execute(\"\"\"\n",
        "INSERT INTO tb_vendas(id_venda,data_venda,cliente, produto,quantidade, preco_unitario , categoria ,valor_total,id_cliente)\n",
        "SELECT id_venda,data_venda,cliente, produto,quantidade, preco_unitario , categoria ,valor_total,id_cliente\n",
        "FROM tb_vendas_temp\n",
        "\"\"\")\n",
        "# Apagar a tb_vendas_temp\n",
        "cursor.execute(\"\"\"DROP TABLE tb_vendas_temp;\n",
        "\"\"\")\n",
        "\n",
        "#Salvar as alterações\n",
        "conexao.commit()\n",
        "print('As tabelas tb_vendas e tb clientes foram relacionadas pela FK id_cliente')"
      ],
      "metadata": {
        "id": "lAQi29eEY01A"
      },
      "execution_count": null,
      "outputs": []
    },
    {
      "cell_type": "markdown",
      "source": [
        "- Escrever uma consulta SQL que mostre: total de vendas por categoria"
      ],
      "metadata": {
        "id": "p15H_VvrY1Rj"
      }
    },
    {
      "cell_type": "code",
      "source": [
        "# SELECT categoria....(selecionar a coluna categoria)\n",
        "# SUM(valor_total) AS total_vendas.....(soma o valor total das vendas por categoria)\n",
        "# FROM tb_vendas...........(indica a tabela de vendas)\n",
        "# GROUP BY categoria....(agrupar as linhas por categoria) para somar os valores por cada categoria.\n",
        "# ORDER BY total_vendas DESC ...(ordena o resultado do maior para o menor total de vendas)\n",
        "\n",
        "SELECT categoria,\n",
        "       SUM(valor_total) AS total_vendas\n",
        "FROM tb_vendas\n",
        "GROUP BY categoria\n",
        "ORDER BY total_vendas DESC;"
      ],
      "metadata": {
        "id": "vXKwkpszY2Gp"
      },
      "execution_count": null,
      "outputs": []
    },
    {
      "cell_type": "markdown",
      "source": [
        "- Validar a carga executando uma query simples (SELECT * FROM tb_vendas LIMIT 5)."
      ],
      "metadata": {
        "id": "NZ_42Q16Y_lq"
      }
    },
    {
      "cell_type": "code",
      "source": [],
      "metadata": {
        "id": "B-YZas62ZAmk"
      },
      "execution_count": null,
      "outputs": []
    },
    {
      "cell_type": "markdown",
      "source": [
        "- Validar o resultado final no SQLite com uma query de seleção"
      ],
      "metadata": {
        "id": "G-X3Qtz5ZBfp"
      }
    },
    {
      "cell_type": "code",
      "source": [],
      "metadata": {
        "id": "O7V5sqMJZCh5"
      },
      "execution_count": null,
      "outputs": []
    },
    {
      "cell_type": "markdown",
      "source": [
        "- Criar o arquivo final pipeline.py integrando todas as etapas (E → T → L)."
      ],
      "metadata": {
        "id": "UFx0-a3GZDGx"
      }
    },
    {
      "cell_type": "code",
      "source": [],
      "metadata": {
        "id": "Tnc3q7sAZEAY"
      },
      "execution_count": null,
      "outputs": []
    }
  ]
}